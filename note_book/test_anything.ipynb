{
 "cells": [
  {
   "cell_type": "code",
   "execution_count": null,
   "metadata": {},
   "outputs": [
    {
     "name": "stdout",
     "output_type": "stream",
     "text": [
      "Giá trị gốc: 0.25, mapping sang: 0.2847, index: 11\n"
     ]
    }
   ],
   "source": [
    "import numpy as np\n",
    "\n",
    "NF4_CENTROIDS = np.array([\n",
    "    -1.0000, -0.6962, -0.5257, -0.3948,\n",
    "    -0.2847, -0.1848, -0.0918, -0.0003,\n",
    "     0.0003,  0.0918,  0.1848,  0.2847,\n",
    "     0.3948,  0.5257,  0.6962,  1.0000\n",
    "])\n",
    "\n",
    "def nf4_quantize(z):\n",
    "    index = np.argmin(np.abs(z - NF4_CENTROIDS))\n",
    "    return index, NF4_CENTROIDS[index]\n",
    "\n",
    "z = 0.25\n",
    "idx, quantized_value = nf4_quantize(z)\n",
    "print(f\"Giá trị gốc: {z}, mapping sang: {quantized_value}, index: {idx}\")\n"
   ]
  },
  {
   "cell_type": "code",
   "execution_count": 8,
   "metadata": {},
   "outputs": [],
   "source": [
    "from datasets import load_dataset"
   ]
  },
  {
   "cell_type": "code",
   "execution_count": 12,
   "metadata": {},
   "outputs": [
    {
     "name": "stderr",
     "output_type": "stream",
     "text": [
      "Repo card metadata block was not found. Setting CardData to empty.\n"
     ]
    }
   ],
   "source": [
    "dataset = load_dataset(\"timdettmers/openassistant-guanaco\", split=\"train\")"
   ]
  },
  {
   "cell_type": "code",
   "execution_count": 13,
   "metadata": {},
   "outputs": [],
   "source": [
    "# Shuffle the dataset and slice it\n",
    "dataset = dataset.shuffle(seed=42).select(range(1500))"
   ]
  },
  {
   "cell_type": "code",
   "execution_count": null,
   "metadata": {},
   "outputs": [],
   "source": [
    "chunks = dataset[2][\"text\"].split(\"###\")"
   ]
  },
  {
   "cell_type": "code",
   "execution_count": 45,
   "metadata": {},
   "outputs": [
    {
     "data": {
      "text/plain": [
       "['',\n",
       " ' Human: Compose a professional email with the following points:\\n\\nMe chinese cook 10 years\\nGood good cook\\nPeople love my food\\nCan you hire me?',\n",
       " ' Assistant: Thanks for the information. Unfortunately, your initial message does not contain enough details or structure to compose a compelling professional email to a potential employer. Here are some suggestions for how we can improve the message:\\n\\n1) Let\\'s first clarify the type of cooking position you are interested in. Are you looking for a job as a line cook, sous chef, executive chef, or something else? This will help determine how to emphasize relevant experience and skills.\\n\\n2) What specific experience do you have? For example, \"Over 10 years of experience preparing authentic Sichuan and Cantonese cuisine.\" Highlight any relevant skills, like knife skills, cooking techniques, menu development, etc. Mention the types of cuisine you specialize in.\\n\\n3) Have you worked in a professional kitchen before? If so, mention the name and type of restaurant (upscale, casual dining, etc.). Emphasize relevant responsibilities and accomplishments. If not, that\\'s fine too, just be clear that you\\'re looking to transition into a professional kitchen and highlight related skills and passion for cooking.\\n\\n4) Do you have any certifications or training? Note any culinary degrees, certificates, or other credentials. Even informal training can show your dedication to the craft.\\n\\n5) Are you looking for full-time, part-time, temporary, or contract work? Be specific about the type of opportunity you\\'re seeking.\\n\\nWith the answers to these questions, we can craft an email in a standard business letter format. The opening can express your interest in the position and summarize your relevant experience and qualifications. The body can go into more depth on your experience, skills, and goals. The closing can reiterate your interest and mention that you\\'d welcome the opportunity to further discuss the role.\\n\\nDoes this help? Let me know if you would like help crafting the full email. I\\'m happy to assist you in composing a professional and compelling message to potential employers.',\n",
       " ' Human: My car is a Mazda 3 Hatchback 2015 2.2 litre Diesel SkyActiv-D 150 Sport Nav (LP64 YBY) with a 6-speed manual transmission. I’m screwed right now. Really need help. I rely on my car to feed my family… but it has a supposedly faulty EGR valve which is a false flag aka an electronic issue (diagnosed by mechanic). It’s Causing engine warning light and going on lim mode. I clear the errors with OBD Scanner and they come back within a day. \\n\\nConcisely, How can I manually delete the EGR valve from the system? I really can’t afford to have the electric engineer do it. This is 100% legal where I am, as the valve is fine and my Mazda 3 passed the MOT with flying colours. There has to be some sort of device I could delete it with?']"
      ]
     },
     "execution_count": 45,
     "metadata": {},
     "output_type": "execute_result"
    }
   ],
   "source": [
    "dataset[2][\"text\"].split(\"###\")"
   ]
  },
  {
   "cell_type": "code",
   "execution_count": 28,
   "metadata": {},
   "outputs": [
    {
     "data": {
      "text/plain": [
       "['',\n",
       " ' Human: Compose a professional email with the following points:\\n\\nMe chinese cook 10 years\\nGood good cook\\nPeople love my food\\nCan you hire me?',\n",
       " ' Assistant: Thanks for the information. Unfortunately, your initial message does not contain enough details or structure to compose a compelling professional email to a potential employer. Here are some suggestions for how we can improve the message:\\n\\n1) Let\\'s first clarify the type of cooking position you are interested in. Are you looking for a job as a line cook, sous chef, executive chef, or something else? This will help determine how to emphasize relevant experience and skills.\\n\\n2) What specific experience do you have? For example, \"Over 10 years of experience preparing authentic Sichuan and Cantonese cuisine.\" Highlight any relevant skills, like knife skills, cooking techniques, menu development, etc. Mention the types of cuisine you specialize in.\\n\\n3) Have you worked in a professional kitchen before? If so, mention the name and type of restaurant (upscale, casual dining, etc.). Emphasize relevant responsibilities and accomplishments. If not, that\\'s fine too, just be clear that you\\'re looking to transition into a professional kitchen and highlight related skills and passion for cooking.\\n\\n4) Do you have any certifications or training? Note any culinary degrees, certificates, or other credentials. Even informal training can show your dedication to the craft.\\n\\n5) Are you looking for full-time, part-time, temporary, or contract work? Be specific about the type of opportunity you\\'re seeking.\\n\\nWith the answers to these questions, we can craft an email in a standard business letter format. The opening can express your interest in the position and summarize your relevant experience and qualifications. The body can go into more depth on your experience, skills, and goals. The closing can reiterate your interest and mention that you\\'d welcome the opportunity to further discuss the role.\\n\\nDoes this help? Let me know if you would like help crafting the full email. I\\'m happy to assist you in composing a professional and compelling message to potential employers.',\n",
       " ' Human: My car is a Mazda 3 Hatchback 2015 2.2 litre Diesel SkyActiv-D 150 Sport Nav (LP64 YBY) with a 6-speed manual transmission. I’m screwed right now. Really need help. I rely on my car to feed my family… but it has a supposedly faulty EGR valve which is a false flag aka an electronic issue (diagnosed by mechanic). It’s Causing engine warning light and going on lim mode. I clear the errors with OBD Scanner and they come back within a day. \\n\\nConcisely, How can I manually delete the EGR valve from the system? I really can’t afford to have the electric engineer do it. This is 100% legal where I am, as the valve is fine and my Mazda 3 passed the MOT with flying colours. There has to be some sort of device I could delete it with?']"
      ]
     },
     "execution_count": 28,
     "metadata": {},
     "output_type": "execute_result"
    }
   ],
   "source": [
    "chunks"
   ]
  },
  {
   "cell_type": "code",
   "execution_count": null,
   "metadata": {},
   "outputs": [
    {
     "name": "stderr",
     "output_type": "stream",
     "text": [
      "Map: 100%|██████████| 1500/1500 [00:00<00:00, 10843.19 examples/s]\n"
     ]
    }
   ],
   "source": [
    "# # Shuffle the dataset and slice it\n",
    "# dataset = dataset.shuffle(seed=42).select(range(1500))\n",
    "\n",
    "# Define a function to transform the data\n",
    "def transform_conversation(example):\n",
    "        conversation_text = example['text']\n",
    "        segments = conversation_text.split('###')\n",
    "\n",
    "        reformatted_segments = []\n",
    "\n",
    "        # Iterate over pairs of segments\n",
    "        for i in range(1, len(segments) - 1, 2):\n",
    "            human_text = segments[i].strip().replace('Human:', '').strip()\n",
    "\n",
    "            # Check if there is a corresponding assistant segment before processing\n",
    "            if i + 1 < len(segments):\n",
    "                assistant_text = segments[i+1].strip().replace('Assistant:', '').strip()\n",
    "\n",
    "                # Apply the new template\n",
    "                reformatted_segments.append(f'\"role\" {human_text} [/INST] {assistant_text} </s>')\n",
    "            else:\n",
    "                # Handle the case where there is no corresponding assistant segment\n",
    "                reformatted_segments.append(f'<s>[INST] {human_text} [/INST] </s>')\n",
    "\n",
    "        return {'conversations': ''.join(reformatted_segments)}\n",
    "\n",
    "\n",
    "# Apply the transformation\n",
    "transformed_dataset = dataset.map(transform_conversation)"
   ]
  },
  {
   "cell_type": "code",
   "execution_count": 58,
   "metadata": {},
   "outputs": [
    {
     "data": {
      "text/plain": [
       "Dataset({\n",
       "    features: ['text'],\n",
       "    num_rows: 1500\n",
       "})"
      ]
     },
     "execution_count": 58,
     "metadata": {},
     "output_type": "execute_result"
    }
   ],
   "source": [
    "transformed_dataset"
   ]
  },
  {
   "cell_type": "code",
   "execution_count": 52,
   "metadata": {},
   "outputs": [
    {
     "data": {
      "text/plain": [
       "'<s>[INST] Compose a professional email with the following points:\\n\\nMe chinese cook 10 years\\nGood good cook\\nPeople love my food\\nCan you hire me? [/INST] Thanks for the information. Unfortunately, your initial message does not contain enough details or structure to compose a compelling professional email to a potential employer. Here are some suggestions for how we can improve the message:\\n\\n1) Let\\'s first clarify the type of cooking position you are interested in. Are you looking for a job as a line cook, sous chef, executive chef, or something else? This will help determine how to emphasize relevant experience and skills.\\n\\n2) What specific experience do you have? For example, \"Over 10 years of experience preparing authentic Sichuan and Cantonese cuisine.\" Highlight any relevant skills, like knife skills, cooking techniques, menu development, etc. Mention the types of cuisine you specialize in.\\n\\n3) Have you worked in a professional kitchen before? If so, mention the name and type of restaurant (upscale, casual dining, etc.). Emphasize relevant responsibilities and accomplishments. If not, that\\'s fine too, just be clear that you\\'re looking to transition into a professional kitchen and highlight related skills and passion for cooking.\\n\\n4) Do you have any certifications or training? Note any culinary degrees, certificates, or other credentials. Even informal training can show your dedication to the craft.\\n\\n5) Are you looking for full-time, part-time, temporary, or contract work? Be specific about the type of opportunity you\\'re seeking.\\n\\nWith the answers to these questions, we can craft an email in a standard business letter format. The opening can express your interest in the position and summarize your relevant experience and qualifications. The body can go into more depth on your experience, skills, and goals. The closing can reiterate your interest and mention that you\\'d welcome the opportunity to further discuss the role.\\n\\nDoes this help? Let me know if you would like help crafting the full email. I\\'m happy to assist you in composing a professional and compelling message to potential employers. </s>'"
      ]
     },
     "execution_count": 52,
     "metadata": {},
     "output_type": "execute_result"
    }
   ],
   "source": [
    "transformed_dataset[2][\"text\"]"
   ]
  },
  {
   "cell_type": "code",
   "execution_count": null,
   "metadata": {},
   "outputs": [],
   "source": [
    "#use to reformat dataset to suitable form with llama 3.2\n",
    "def new_transform_conversations(example):\n",
    "    text_conversation = example[\"text\"]\n",
    "    segments = text_conversation.split(\"###\")\n",
    "    reformatted_segments = []\n",
    "    for i in range(1,len(segments)-1,2):       \n",
    "        human_text = segments[i].replace('Human:', '').strip()\n",
    "        if(i+1 < len(segments)):\n",
    "            assistant_text = segments[i+1].replace('Assistant:', '').strip()\n",
    "        # Apply the new template\n",
    "            reformatted_segments.append(f'<|start_header_id|>user<|end_header_id|> {human_text} <|eot_id|> <|start_header_id|>assistant<|end_header_id|> {assistant_text} <|eot_id|>')\n",
    "        else:\n",
    "            # Handle the case where there is no corresponding assistant segment\n",
    "            reformatted_segments.append(f'<|start_header_id|>user<|end_header_id|> {human_text} <|eot_id|>')\n",
    "    return \"\".join(reformatted_segments)"
   ]
  },
  {
   "cell_type": "code",
   "execution_count": 67,
   "metadata": {},
   "outputs": [
    {
     "name": "stderr",
     "output_type": "stream",
     "text": [
      "Map: 100%|██████████| 1500/1500 [00:00<00:00, 12693.37 examples/s]\n"
     ]
    }
   ],
   "source": [
    "# Apply the transformation\n",
    "new_transformed_dataset = dataset.map(new_transform_conversations, remove_columns=\"text\")"
   ]
  },
  {
   "cell_type": "code",
   "execution_count": 71,
   "metadata": {},
   "outputs": [
    {
     "data": {
      "text/plain": [
       "False"
      ]
     },
     "execution_count": 71,
     "metadata": {},
     "output_type": "execute_result"
    }
   ],
   "source": [
    "new_transformed_dataset[2][\"text\"].endswith(\".\")"
   ]
  },
  {
   "cell_type": "code",
   "execution_count": null,
   "metadata": {},
   "outputs": [],
   "source": []
  }
 ],
 "metadata": {
  "kernelspec": {
   "display_name": "finetune",
   "language": "python",
   "name": "python3"
  },
  "language_info": {
   "codemirror_mode": {
    "name": "ipython",
    "version": 3
   },
   "file_extension": ".py",
   "mimetype": "text/x-python",
   "name": "python",
   "nbconvert_exporter": "python",
   "pygments_lexer": "ipython3",
   "version": "3.13.3"
  }
 },
 "nbformat": 4,
 "nbformat_minor": 2
}
